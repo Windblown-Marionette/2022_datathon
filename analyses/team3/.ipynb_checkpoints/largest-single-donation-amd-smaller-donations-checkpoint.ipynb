{
 "cells": [
  {
   "cell_type": "markdown",
   "id": "7db3c42e",
   "metadata": {},
   "source": [
    "By Michael Holt, as part of team 3 for the DataPhilly 2022 Datathon to help ElderNet."
   ]
  },
  {
   "cell_type": "code",
   "execution_count": 32,
   "id": "1686081a",
   "metadata": {},
   "outputs": [],
   "source": [
    "import numpy as np\n",
    "import pandas as pd\n",
    "import matplotlib.pyplot as plt"
   ]
  },
  {
   "cell_type": "code",
   "execution_count": 42,
   "id": "3a59e904",
   "metadata": {},
   "outputs": [],
   "source": [
    "%matplotlib inline"
   ]
  },
  {
   "cell_type": "markdown",
   "id": "8b0c188e",
   "metadata": {},
   "source": [
    "# Importing Data"
   ]
  },
  {
   "cell_type": "code",
   "execution_count": 12,
   "id": "3690790b",
   "metadata": {},
   "outputs": [],
   "source": [
    "donations_df = pd.read_csv('../../data/donations_anonymized.csv')"
   ]
  },
  {
   "cell_type": "markdown",
   "id": "79b49eb3",
   "metadata": {},
   "source": [
    "# Largest Donation Amount"
   ]
  },
  {
   "cell_type": "code",
   "execution_count": 13,
   "id": "657c2fa5",
   "metadata": {},
   "outputs": [
    {
     "data": {
      "text/html": [
       "<div>\n",
       "<style scoped>\n",
       "    .dataframe tbody tr th:only-of-type {\n",
       "        vertical-align: middle;\n",
       "    }\n",
       "\n",
       "    .dataframe tbody tr th {\n",
       "        vertical-align: top;\n",
       "    }\n",
       "\n",
       "    .dataframe thead th {\n",
       "        text-align: right;\n",
       "    }\n",
       "</style>\n",
       "<table border=\"1\" class=\"dataframe\">\n",
       "  <thead>\n",
       "    <tr style=\"text-align: right;\">\n",
       "      <th></th>\n",
       "      <th>anon_donor_id</th>\n",
       "      <th>zip</th>\n",
       "      <th>status</th>\n",
       "      <th>do_not_mail</th>\n",
       "      <th>do_not_call</th>\n",
       "      <th>organisation</th>\n",
       "      <th>date</th>\n",
       "      <th>amount</th>\n",
       "      <th>form</th>\n",
       "      <th>campaign</th>\n",
       "      <th>target</th>\n",
       "    </tr>\n",
       "  </thead>\n",
       "  <tbody>\n",
       "    <tr>\n",
       "      <th>0</th>\n",
       "      <td>92</td>\n",
       "      <td>19003.0</td>\n",
       "      <td>Active</td>\n",
       "      <td>False</td>\n",
       "      <td>False</td>\n",
       "      <td>N</td>\n",
       "      <td>01/01/2019</td>\n",
       "      <td>40.0</td>\n",
       "      <td>Check</td>\n",
       "      <td>Clients</td>\n",
       "      <td>Gift</td>\n",
       "    </tr>\n",
       "    <tr>\n",
       "      <th>1</th>\n",
       "      <td>321</td>\n",
       "      <td>19096.0</td>\n",
       "      <td>Active</td>\n",
       "      <td>False</td>\n",
       "      <td>False</td>\n",
       "      <td>N</td>\n",
       "      <td>01/02/2019</td>\n",
       "      <td>25.0</td>\n",
       "      <td>Check</td>\n",
       "      <td>Fall Towns</td>\n",
       "      <td>Gift</td>\n",
       "    </tr>\n",
       "    <tr>\n",
       "      <th>2</th>\n",
       "      <td>559</td>\n",
       "      <td>19146.0</td>\n",
       "      <td>Active</td>\n",
       "      <td>False</td>\n",
       "      <td>False</td>\n",
       "      <td>N</td>\n",
       "      <td>01/02/2019</td>\n",
       "      <td>250.0</td>\n",
       "      <td>Check</td>\n",
       "      <td>Fall Towns</td>\n",
       "      <td>Gift</td>\n",
       "    </tr>\n",
       "    <tr>\n",
       "      <th>3</th>\n",
       "      <td>926</td>\n",
       "      <td>19041.0</td>\n",
       "      <td>Active</td>\n",
       "      <td>False</td>\n",
       "      <td>False</td>\n",
       "      <td>N</td>\n",
       "      <td>01/03/2019</td>\n",
       "      <td>50.0</td>\n",
       "      <td>Check</td>\n",
       "      <td>Fall Towns</td>\n",
       "      <td>Gift</td>\n",
       "    </tr>\n",
       "    <tr>\n",
       "      <th>4</th>\n",
       "      <td>860</td>\n",
       "      <td>10038.0</td>\n",
       "      <td>Active</td>\n",
       "      <td>False</td>\n",
       "      <td>False</td>\n",
       "      <td>N</td>\n",
       "      <td>01/04/2019</td>\n",
       "      <td>165.0</td>\n",
       "      <td>Check</td>\n",
       "      <td>Misc</td>\n",
       "      <td>Gift</td>\n",
       "    </tr>\n",
       "    <tr>\n",
       "      <th>5</th>\n",
       "      <td>956</td>\n",
       "      <td>19003.0</td>\n",
       "      <td>Active</td>\n",
       "      <td>False</td>\n",
       "      <td>False</td>\n",
       "      <td>N</td>\n",
       "      <td>01/07/2019</td>\n",
       "      <td>32.0</td>\n",
       "      <td>Check</td>\n",
       "      <td>Fall Towns</td>\n",
       "      <td>Gift</td>\n",
       "    </tr>\n",
       "    <tr>\n",
       "      <th>6</th>\n",
       "      <td>835</td>\n",
       "      <td>19072.0</td>\n",
       "      <td>Active</td>\n",
       "      <td>False</td>\n",
       "      <td>False</td>\n",
       "      <td>N</td>\n",
       "      <td>01/07/2019</td>\n",
       "      <td>100.0</td>\n",
       "      <td>Check</td>\n",
       "      <td>Board</td>\n",
       "      <td>Gift</td>\n",
       "    </tr>\n",
       "    <tr>\n",
       "      <th>7</th>\n",
       "      <td>119</td>\n",
       "      <td>19041.0</td>\n",
       "      <td>Active</td>\n",
       "      <td>False</td>\n",
       "      <td>False</td>\n",
       "      <td>N</td>\n",
       "      <td>01/08/2019</td>\n",
       "      <td>100.0</td>\n",
       "      <td>Check</td>\n",
       "      <td>Board</td>\n",
       "      <td>Gift</td>\n",
       "    </tr>\n",
       "    <tr>\n",
       "      <th>8</th>\n",
       "      <td>485</td>\n",
       "      <td>19041.0</td>\n",
       "      <td>Active</td>\n",
       "      <td>False</td>\n",
       "      <td>False</td>\n",
       "      <td>N</td>\n",
       "      <td>01/09/2019</td>\n",
       "      <td>50.0</td>\n",
       "      <td>Check</td>\n",
       "      <td>Fall Towns</td>\n",
       "      <td>Gift</td>\n",
       "    </tr>\n",
       "    <tr>\n",
       "      <th>9</th>\n",
       "      <td>192</td>\n",
       "      <td>19403.0</td>\n",
       "      <td>Active</td>\n",
       "      <td>False</td>\n",
       "      <td>False</td>\n",
       "      <td>N</td>\n",
       "      <td>01/09/2019</td>\n",
       "      <td>1000.0</td>\n",
       "      <td>Check</td>\n",
       "      <td>Corporatio</td>\n",
       "      <td>Gift</td>\n",
       "    </tr>\n",
       "  </tbody>\n",
       "</table>\n",
       "</div>"
      ],
      "text/plain": [
       "   anon_donor_id      zip  status  do_not_mail  do_not_call organisation  \\\n",
       "0             92  19003.0  Active        False        False            N   \n",
       "1            321  19096.0  Active        False        False            N   \n",
       "2            559  19146.0  Active        False        False            N   \n",
       "3            926  19041.0  Active        False        False            N   \n",
       "4            860  10038.0  Active        False        False            N   \n",
       "5            956  19003.0  Active        False        False            N   \n",
       "6            835  19072.0  Active        False        False            N   \n",
       "7            119  19041.0  Active        False        False            N   \n",
       "8            485  19041.0  Active        False        False            N   \n",
       "9            192  19403.0  Active        False        False            N   \n",
       "\n",
       "         date  amount   form    campaign target  \n",
       "0  01/01/2019    40.0  Check     Clients   Gift  \n",
       "1  01/02/2019    25.0  Check  Fall Towns   Gift  \n",
       "2  01/02/2019   250.0  Check  Fall Towns   Gift  \n",
       "3  01/03/2019    50.0  Check  Fall Towns   Gift  \n",
       "4  01/04/2019   165.0  Check        Misc   Gift  \n",
       "5  01/07/2019    32.0  Check  Fall Towns   Gift  \n",
       "6  01/07/2019   100.0  Check       Board   Gift  \n",
       "7  01/08/2019   100.0  Check       Board   Gift  \n",
       "8  01/09/2019    50.0  Check  Fall Towns   Gift  \n",
       "9  01/09/2019  1000.0  Check  Corporatio   Gift  "
      ]
     },
     "execution_count": 13,
     "metadata": {},
     "output_type": "execute_result"
    }
   ],
   "source": [
    "donations_df.head(10)"
   ]
  },
  {
   "cell_type": "markdown",
   "id": "70b9eff7",
   "metadata": {},
   "source": [
    "The largest single donation recorded here can be found through max()."
   ]
  },
  {
   "cell_type": "code",
   "execution_count": 14,
   "id": "1452d249",
   "metadata": {},
   "outputs": [
    {
     "data": {
      "text/plain": [
       "186092.0"
      ]
     },
     "execution_count": 14,
     "metadata": {},
     "output_type": "execute_result"
    }
   ],
   "source": [
    "max(donations_df.amount)"
   ]
  },
  {
   "cell_type": "markdown",
   "id": "3e77048b",
   "metadata": {},
   "source": [
    "A filter for all rows which have this value. This will help add some context."
   ]
  },
  {
   "cell_type": "code",
   "execution_count": 15,
   "id": "e47e27f9",
   "metadata": {},
   "outputs": [
    {
     "data": {
      "text/plain": [
       "0       False\n",
       "1       False\n",
       "2       False\n",
       "3       False\n",
       "4       False\n",
       "        ...  \n",
       "2185    False\n",
       "2186    False\n",
       "2187    False\n",
       "2188    False\n",
       "2189    False\n",
       "Name: amount, Length: 2190, dtype: bool"
      ]
     },
     "execution_count": 15,
     "metadata": {},
     "output_type": "execute_result"
    }
   ],
   "source": [
    "donations_df.loc[: , \"amount\"] == max(donations_df.amount)"
   ]
  },
  {
   "cell_type": "code",
   "execution_count": 16,
   "id": "bf628034",
   "metadata": {},
   "outputs": [],
   "source": [
    "mask = donations_df.loc[: , \"amount\"] == max(donations_df.amount)"
   ]
  },
  {
   "cell_type": "code",
   "execution_count": 17,
   "id": "3eb62f73",
   "metadata": {},
   "outputs": [
    {
     "data": {
      "text/html": [
       "<div>\n",
       "<style scoped>\n",
       "    .dataframe tbody tr th:only-of-type {\n",
       "        vertical-align: middle;\n",
       "    }\n",
       "\n",
       "    .dataframe tbody tr th {\n",
       "        vertical-align: top;\n",
       "    }\n",
       "\n",
       "    .dataframe thead th {\n",
       "        text-align: right;\n",
       "    }\n",
       "</style>\n",
       "<table border=\"1\" class=\"dataframe\">\n",
       "  <thead>\n",
       "    <tr style=\"text-align: right;\">\n",
       "      <th></th>\n",
       "      <th>anon_donor_id</th>\n",
       "      <th>zip</th>\n",
       "      <th>status</th>\n",
       "      <th>do_not_mail</th>\n",
       "      <th>do_not_call</th>\n",
       "      <th>organisation</th>\n",
       "      <th>date</th>\n",
       "      <th>amount</th>\n",
       "      <th>form</th>\n",
       "      <th>campaign</th>\n",
       "      <th>target</th>\n",
       "    </tr>\n",
       "  </thead>\n",
       "  <tbody>\n",
       "    <tr>\n",
       "      <th>1809</th>\n",
       "      <td>589</td>\n",
       "      <td>NaN</td>\n",
       "      <td>Active</td>\n",
       "      <td>False</td>\n",
       "      <td>False</td>\n",
       "      <td>N</td>\n",
       "      <td>01/14/2021</td>\n",
       "      <td>186092.0</td>\n",
       "      <td>Check</td>\n",
       "      <td>Misc</td>\n",
       "      <td>Gift</td>\n",
       "    </tr>\n",
       "  </tbody>\n",
       "</table>\n",
       "</div>"
      ],
      "text/plain": [
       "      anon_donor_id  zip  status  do_not_mail  do_not_call organisation  \\\n",
       "1809            589  NaN  Active        False        False            N   \n",
       "\n",
       "            date    amount   form campaign target  \n",
       "1809  01/14/2021  186092.0  Check     Misc   Gift  "
      ]
     },
     "execution_count": 17,
     "metadata": {},
     "output_type": "execute_result"
    }
   ],
   "source": [
    "donations_df[mask]"
   ]
  },
  {
   "cell_type": "markdown",
   "id": "7a04b441",
   "metadata": {},
   "source": [
    "This above row has data on the largest recorded donation. There was no tie for the biggest donation. The biggest donation occurred on 1/14/2021, was not from an organization, and was a check for a whopping $186,092."
   ]
  },
  {
   "cell_type": "markdown",
   "id": "9bfdda40",
   "metadata": {},
   "source": [
    "## Seeing the contributions of each donation. By size.\n",
    "\n",
    "In particular, graphing the cumulative sum of donations when ordered by size."
   ]
  },
  {
   "cell_type": "code",
   "execution_count": 18,
   "id": "97d56021",
   "metadata": {},
   "outputs": [
    {
     "data": {
      "text/html": [
       "<div>\n",
       "<style scoped>\n",
       "    .dataframe tbody tr th:only-of-type {\n",
       "        vertical-align: middle;\n",
       "    }\n",
       "\n",
       "    .dataframe tbody tr th {\n",
       "        vertical-align: top;\n",
       "    }\n",
       "\n",
       "    .dataframe thead th {\n",
       "        text-align: right;\n",
       "    }\n",
       "</style>\n",
       "<table border=\"1\" class=\"dataframe\">\n",
       "  <thead>\n",
       "    <tr style=\"text-align: right;\">\n",
       "      <th></th>\n",
       "      <th>anon_donor_id</th>\n",
       "      <th>zip</th>\n",
       "      <th>status</th>\n",
       "      <th>do_not_mail</th>\n",
       "      <th>do_not_call</th>\n",
       "      <th>organisation</th>\n",
       "      <th>date</th>\n",
       "      <th>amount</th>\n",
       "      <th>form</th>\n",
       "      <th>campaign</th>\n",
       "      <th>target</th>\n",
       "    </tr>\n",
       "  </thead>\n",
       "  <tbody>\n",
       "    <tr>\n",
       "      <th>0</th>\n",
       "      <td>92</td>\n",
       "      <td>19003.0</td>\n",
       "      <td>Active</td>\n",
       "      <td>False</td>\n",
       "      <td>False</td>\n",
       "      <td>N</td>\n",
       "      <td>01/01/2019</td>\n",
       "      <td>40.0</td>\n",
       "      <td>Check</td>\n",
       "      <td>Clients</td>\n",
       "      <td>Gift</td>\n",
       "    </tr>\n",
       "    <tr>\n",
       "      <th>1</th>\n",
       "      <td>321</td>\n",
       "      <td>19096.0</td>\n",
       "      <td>Active</td>\n",
       "      <td>False</td>\n",
       "      <td>False</td>\n",
       "      <td>N</td>\n",
       "      <td>01/02/2019</td>\n",
       "      <td>25.0</td>\n",
       "      <td>Check</td>\n",
       "      <td>Fall Towns</td>\n",
       "      <td>Gift</td>\n",
       "    </tr>\n",
       "    <tr>\n",
       "      <th>2</th>\n",
       "      <td>559</td>\n",
       "      <td>19146.0</td>\n",
       "      <td>Active</td>\n",
       "      <td>False</td>\n",
       "      <td>False</td>\n",
       "      <td>N</td>\n",
       "      <td>01/02/2019</td>\n",
       "      <td>250.0</td>\n",
       "      <td>Check</td>\n",
       "      <td>Fall Towns</td>\n",
       "      <td>Gift</td>\n",
       "    </tr>\n",
       "    <tr>\n",
       "      <th>3</th>\n",
       "      <td>926</td>\n",
       "      <td>19041.0</td>\n",
       "      <td>Active</td>\n",
       "      <td>False</td>\n",
       "      <td>False</td>\n",
       "      <td>N</td>\n",
       "      <td>01/03/2019</td>\n",
       "      <td>50.0</td>\n",
       "      <td>Check</td>\n",
       "      <td>Fall Towns</td>\n",
       "      <td>Gift</td>\n",
       "    </tr>\n",
       "    <tr>\n",
       "      <th>4</th>\n",
       "      <td>860</td>\n",
       "      <td>10038.0</td>\n",
       "      <td>Active</td>\n",
       "      <td>False</td>\n",
       "      <td>False</td>\n",
       "      <td>N</td>\n",
       "      <td>01/04/2019</td>\n",
       "      <td>165.0</td>\n",
       "      <td>Check</td>\n",
       "      <td>Misc</td>\n",
       "      <td>Gift</td>\n",
       "    </tr>\n",
       "  </tbody>\n",
       "</table>\n",
       "</div>"
      ],
      "text/plain": [
       "   anon_donor_id      zip  status  do_not_mail  do_not_call organisation  \\\n",
       "0             92  19003.0  Active        False        False            N   \n",
       "1            321  19096.0  Active        False        False            N   \n",
       "2            559  19146.0  Active        False        False            N   \n",
       "3            926  19041.0  Active        False        False            N   \n",
       "4            860  10038.0  Active        False        False            N   \n",
       "\n",
       "         date  amount   form    campaign target  \n",
       "0  01/01/2019    40.0  Check     Clients   Gift  \n",
       "1  01/02/2019    25.0  Check  Fall Towns   Gift  \n",
       "2  01/02/2019   250.0  Check  Fall Towns   Gift  \n",
       "3  01/03/2019    50.0  Check  Fall Towns   Gift  \n",
       "4  01/04/2019   165.0  Check        Misc   Gift  "
      ]
     },
     "execution_count": 18,
     "metadata": {},
     "output_type": "execute_result"
    }
   ],
   "source": [
    "donations_df.head()"
   ]
  },
  {
   "cell_type": "markdown",
   "id": "af34dacb",
   "metadata": {},
   "source": [
    "Ascending sizes."
   ]
  },
  {
   "cell_type": "code",
   "execution_count": 51,
   "id": "828dc033",
   "metadata": {},
   "outputs": [
    {
     "data": {
      "text/html": [
       "<div>\n",
       "<style scoped>\n",
       "    .dataframe tbody tr th:only-of-type {\n",
       "        vertical-align: middle;\n",
       "    }\n",
       "\n",
       "    .dataframe tbody tr th {\n",
       "        vertical-align: top;\n",
       "    }\n",
       "\n",
       "    .dataframe thead th {\n",
       "        text-align: right;\n",
       "    }\n",
       "</style>\n",
       "<table border=\"1\" class=\"dataframe\">\n",
       "  <thead>\n",
       "    <tr style=\"text-align: right;\">\n",
       "      <th></th>\n",
       "      <th>anon_donor_id</th>\n",
       "      <th>zip</th>\n",
       "      <th>status</th>\n",
       "      <th>do_not_mail</th>\n",
       "      <th>do_not_call</th>\n",
       "      <th>organisation</th>\n",
       "      <th>date</th>\n",
       "      <th>amount</th>\n",
       "      <th>form</th>\n",
       "      <th>campaign</th>\n",
       "      <th>target</th>\n",
       "      <th>cum_sum</th>\n",
       "    </tr>\n",
       "  </thead>\n",
       "  <tbody>\n",
       "    <tr>\n",
       "      <th>1330</th>\n",
       "      <td>68</td>\n",
       "      <td>19004.0</td>\n",
       "      <td>Active</td>\n",
       "      <td>False</td>\n",
       "      <td>False</td>\n",
       "      <td>N</td>\n",
       "      <td>08/27/2020</td>\n",
       "      <td>0.0</td>\n",
       "      <td>InKind</td>\n",
       "      <td>In-Kind</td>\n",
       "      <td>Gift</td>\n",
       "      <td>0.0</td>\n",
       "    </tr>\n",
       "    <tr>\n",
       "      <th>914</th>\n",
       "      <td>186</td>\n",
       "      <td>NaN</td>\n",
       "      <td>Active</td>\n",
       "      <td>False</td>\n",
       "      <td>False</td>\n",
       "      <td>N</td>\n",
       "      <td>01/31/2020</td>\n",
       "      <td>1.0</td>\n",
       "      <td>Check</td>\n",
       "      <td>Fall Towns</td>\n",
       "      <td>Gift</td>\n",
       "      <td>1.0</td>\n",
       "    </tr>\n",
       "    <tr>\n",
       "      <th>1897</th>\n",
       "      <td>495</td>\n",
       "      <td>19083.0</td>\n",
       "      <td>Active</td>\n",
       "      <td>False</td>\n",
       "      <td>False</td>\n",
       "      <td>N</td>\n",
       "      <td>04/28/2021</td>\n",
       "      <td>1.0</td>\n",
       "      <td>Check</td>\n",
       "      <td>In/Out</td>\n",
       "      <td>Gift</td>\n",
       "      <td>2.0</td>\n",
       "    </tr>\n",
       "    <tr>\n",
       "      <th>209</th>\n",
       "      <td>743</td>\n",
       "      <td>NaN</td>\n",
       "      <td>Active</td>\n",
       "      <td>False</td>\n",
       "      <td>False</td>\n",
       "      <td>Y</td>\n",
       "      <td>04/29/2019</td>\n",
       "      <td>2.0</td>\n",
       "      <td>Check</td>\n",
       "      <td>Fall Towns</td>\n",
       "      <td>Gift</td>\n",
       "      <td>4.0</td>\n",
       "    </tr>\n",
       "    <tr>\n",
       "      <th>69</th>\n",
       "      <td>743</td>\n",
       "      <td>NaN</td>\n",
       "      <td>Active</td>\n",
       "      <td>False</td>\n",
       "      <td>False</td>\n",
       "      <td>Y</td>\n",
       "      <td>03/15/2019</td>\n",
       "      <td>2.0</td>\n",
       "      <td>Check</td>\n",
       "      <td>Fall Towns</td>\n",
       "      <td>Gift</td>\n",
       "      <td>6.0</td>\n",
       "    </tr>\n",
       "    <tr>\n",
       "      <th>...</th>\n",
       "      <td>...</td>\n",
       "      <td>...</td>\n",
       "      <td>...</td>\n",
       "      <td>...</td>\n",
       "      <td>...</td>\n",
       "      <td>...</td>\n",
       "      <td>...</td>\n",
       "      <td>...</td>\n",
       "      <td>...</td>\n",
       "      <td>...</td>\n",
       "      <td>...</td>\n",
       "      <td>...</td>\n",
       "    </tr>\n",
       "    <tr>\n",
       "      <th>1304</th>\n",
       "      <td>372</td>\n",
       "      <td>19107.0</td>\n",
       "      <td>Active</td>\n",
       "      <td>False</td>\n",
       "      <td>False</td>\n",
       "      <td>N</td>\n",
       "      <td>07/08/2020</td>\n",
       "      <td>30000.0</td>\n",
       "      <td>Check</td>\n",
       "      <td>Foundation</td>\n",
       "      <td>Gift</td>\n",
       "      <td>950973.2</td>\n",
       "    </tr>\n",
       "    <tr>\n",
       "      <th>1876</th>\n",
       "      <td>816</td>\n",
       "      <td>NaN</td>\n",
       "      <td>Active</td>\n",
       "      <td>False</td>\n",
       "      <td>False</td>\n",
       "      <td>N</td>\n",
       "      <td>04/07/2021</td>\n",
       "      <td>35000.0</td>\n",
       "      <td>Check</td>\n",
       "      <td>Misc</td>\n",
       "      <td>Gift</td>\n",
       "      <td>985973.2</td>\n",
       "    </tr>\n",
       "    <tr>\n",
       "      <th>1611</th>\n",
       "      <td>152</td>\n",
       "      <td>19101.0</td>\n",
       "      <td>Active</td>\n",
       "      <td>False</td>\n",
       "      <td>False</td>\n",
       "      <td>N</td>\n",
       "      <td>11/30/2020</td>\n",
       "      <td>50000.0</td>\n",
       "      <td>Check</td>\n",
       "      <td>Foundation</td>\n",
       "      <td>Gift</td>\n",
       "      <td>1035973.2</td>\n",
       "    </tr>\n",
       "    <tr>\n",
       "      <th>991</th>\n",
       "      <td>589</td>\n",
       "      <td>NaN</td>\n",
       "      <td>Active</td>\n",
       "      <td>False</td>\n",
       "      <td>False</td>\n",
       "      <td>N</td>\n",
       "      <td>04/04/2020</td>\n",
       "      <td>50000.0</td>\n",
       "      <td>Check</td>\n",
       "      <td>Misc</td>\n",
       "      <td>Gift</td>\n",
       "      <td>1085973.2</td>\n",
       "    </tr>\n",
       "    <tr>\n",
       "      <th>1809</th>\n",
       "      <td>589</td>\n",
       "      <td>NaN</td>\n",
       "      <td>Active</td>\n",
       "      <td>False</td>\n",
       "      <td>False</td>\n",
       "      <td>N</td>\n",
       "      <td>01/14/2021</td>\n",
       "      <td>186092.0</td>\n",
       "      <td>Check</td>\n",
       "      <td>Misc</td>\n",
       "      <td>Gift</td>\n",
       "      <td>1272065.2</td>\n",
       "    </tr>\n",
       "  </tbody>\n",
       "</table>\n",
       "<p>2190 rows × 12 columns</p>\n",
       "</div>"
      ],
      "text/plain": [
       "      anon_donor_id      zip  status  do_not_mail  do_not_call organisation  \\\n",
       "1330             68  19004.0  Active        False        False            N   \n",
       "914             186      NaN  Active        False        False            N   \n",
       "1897            495  19083.0  Active        False        False            N   \n",
       "209             743      NaN  Active        False        False            Y   \n",
       "69              743      NaN  Active        False        False            Y   \n",
       "...             ...      ...     ...          ...          ...          ...   \n",
       "1304            372  19107.0  Active        False        False            N   \n",
       "1876            816      NaN  Active        False        False            N   \n",
       "1611            152  19101.0  Active        False        False            N   \n",
       "991             589      NaN  Active        False        False            N   \n",
       "1809            589      NaN  Active        False        False            N   \n",
       "\n",
       "            date    amount    form    campaign target    cum_sum  \n",
       "1330  08/27/2020       0.0  InKind     In-Kind   Gift        0.0  \n",
       "914   01/31/2020       1.0   Check  Fall Towns   Gift        1.0  \n",
       "1897  04/28/2021       1.0   Check      In/Out   Gift        2.0  \n",
       "209   04/29/2019       2.0   Check  Fall Towns   Gift        4.0  \n",
       "69    03/15/2019       2.0   Check  Fall Towns   Gift        6.0  \n",
       "...          ...       ...     ...         ...    ...        ...  \n",
       "1304  07/08/2020   30000.0   Check  Foundation   Gift   950973.2  \n",
       "1876  04/07/2021   35000.0   Check        Misc   Gift   985973.2  \n",
       "1611  11/30/2020   50000.0   Check  Foundation   Gift  1035973.2  \n",
       "991   04/04/2020   50000.0   Check        Misc   Gift  1085973.2  \n",
       "1809  01/14/2021  186092.0   Check        Misc   Gift  1272065.2  \n",
       "\n",
       "[2190 rows x 12 columns]"
      ]
     },
     "execution_count": 51,
     "metadata": {},
     "output_type": "execute_result"
    }
   ],
   "source": [
    "# producing a pandas column full of this cumulative sum\n",
    "donations_df.sort_values( by = 'amount', inplace = True)\n",
    "\n",
    "sumthing = 0\n",
    "cum_sum = []\n",
    "for donation in donations_df.amount:\n",
    "    sumthing += donation\n",
    "    cum_sum.append(sumthing)\n",
    "    \n",
    "donations_df['cum_sum'] = cum_sum\n",
    "donations_df"
   ]
  },
  {
   "cell_type": "code",
   "execution_count": 141,
   "id": "f37136e0",
   "metadata": {},
   "outputs": [
    {
     "data": {
      "image/png": "[encoded data removed]",
      "text/plain": [
       "<Figure size 1050x700 with 1 Axes>"
      ]
     },
     "metadata": {
      "needs_background": "light"
     },
     "output_type": "display_data"
    }
   ],
   "source": [
    "plt.figure(dpi = 175)\n",
    "plt.scatter(donations_df.amount, donations_df.cum_sum, alpha = .6, edgecolors = '#410A45', c = '#5D5177')\n",
    "plt.title('Small donations had a big contribution.')\n",
    "plt.xlabel(' Size of each donation ($)')\n",
    "plt.ylabel(' Cumulative donation sum (million $)')\n",
    "plt.savefig('donation-sizes-and-contributions/cumulative_donations_1.png', dpi = 600)\n",
    "plt.show()"
   ]
  },
  {
   "cell_type": "code",
   "execution_count": 132,
   "id": "3d28426f",
   "metadata": {},
   "outputs": [
    {
     "data": {
      "image/png": "[encoded data removed]",
      "text/plain": [
       "<Figure size 1050x525 with 1 Axes>"
      ]
     },
     "metadata": {
      "needs_background": "light"
     },
     "output_type": "display_data"
    }
   ],
   "source": [
    "plt.figure(figsize = (6,3), dpi = 175)\n",
    "plt.hist(donations_df.amount, cumulative=True, bins = 100)\n",
    "plt.title('Small donations had a big contribution.')\n",
    "plt.xlabel('($) Size of each donation')\n",
    "plt.ylabel('(million $) Cumulative donation sum')\n",
    "plt.savefig('donation-sizes-and-contributions/cumulative_donations_2.png', dpi = 600)\n",
    "plt.show()"
   ]
  },
  {
   "cell_type": "markdown",
   "id": "29910603",
   "metadata": {},
   "source": [
    "Alternatively, creating a pie chart with these contributions."
   ]
  },
  {
   "cell_type": "code",
   "execution_count": 126,
   "id": "83fe3cec",
   "metadata": {},
   "outputs": [
    {
     "data": {
      "text/plain": [
       "6"
      ]
     },
     "execution_count": 126,
     "metadata": {},
     "output_type": "execute_result"
    }
   ],
   "source": [
    "test_donation_list = pd.Series([1, 1, 1, 1, 1, 1, 2, 4, 5, 20, 28])\n",
    "test_donation_list.quantile(.5, interpolation = 'nearest')\n",
    "\n",
    "#  if the .quantile function is given an array of quantiles,\n",
    "#  it returns a dataframe\n",
    "quantile_locations = test_donation_list.quantile([.1,.2,.3], interpolation = 'nearest')\n",
    "quantile_locations\n",
    "test_donation_list[len(test_donation_list) - 2]\n",
    "\n",
    "int(np.round( len(test_donation_list) * .5) )"
   ]
  },
  {
   "cell_type": "code",
   "execution_count": 130,
   "id": "204b306e",
   "metadata": {},
   "outputs": [],
   "source": [
    "def pie_filling(donation_amounts, quantiles):\n",
    "    '''Takes in a list of values and a list of quantiles desired (between 0 and 1).\n",
    "    Returns a list of the values contained within these quantiles.\n",
    "    \n",
    "    Ex.\n",
    "    pie_filling([0,1,2,3,4], [.5])\n",
    "    \n",
    "    returns [[0,1, 2]], the values up to the median\n",
    "    '''\n",
    "    pie_slices = []\n",
    "    pie_slice = []\n",
    "    prev_index = 0\n",
    "    for quantile in quantiles:\n",
    "        index = int(np.round( len(donation_amounts) * quantile) )\n",
    "        pie_slice = donation_amounts[prev_index : (index + 1)]\n",
    "        pie_slices.append(pie_slice)\n",
    "        prev_index = index\n",
    "    last_pie_slice = donation_amounts[prev_index : -1]\n",
    "    pie_slices.append(last_pie_slice)\n",
    "    return pie_slices"
   ]
  },
  {
   "cell_type": "code",
   "execution_count": 131,
   "id": "3c946827",
   "metadata": {},
   "outputs": [
    {
     "data": {
      "text/plain": [
       "[0    1\n",
       " 1    1\n",
       " 2    1\n",
       " 3    1\n",
       " dtype: int64,\n",
       " 3    1\n",
       " 4    1\n",
       " 5    1\n",
       " 6    2\n",
       " 7    4\n",
       " 8    5\n",
       " dtype: int64,\n",
       " 8     5\n",
       " 9    20\n",
       " dtype: int64]"
      ]
     },
     "execution_count": 131,
     "metadata": {},
     "output_type": "execute_result"
    }
   ],
   "source": [
    "pie_filling(test_donation_list, [.25,.75])"
   ]
  },
  {
   "cell_type": "code",
   "execution_count": 134,
   "id": "5df9960d",
   "metadata": {},
   "outputs": [
    {
     "ename": "ValueError",
     "evalue": "Image size of 157663176x118778283 pixels is too large. It must be less than 2^16 in each direction.",
     "output_type": "error",
     "traceback": [
      "\u001b[1;31m---------------------------------------------------------------------------\u001b[0m",
      "\u001b[1;31mValueError\u001b[0m                                Traceback (most recent call last)",
      "\u001b[1;32m~\\anaconda3\\lib\\site-packages\\IPython\\core\\formatters.py\u001b[0m in \u001b[0;36m__call__\u001b[1;34m(self, obj)\u001b[0m\n\u001b[0;32m    339\u001b[0m                 \u001b[1;32mpass\u001b[0m\u001b[1;33m\u001b[0m\u001b[1;33m\u001b[0m\u001b[0m\n\u001b[0;32m    340\u001b[0m             \u001b[1;32melse\u001b[0m\u001b[1;33m:\u001b[0m\u001b[1;33m\u001b[0m\u001b[1;33m\u001b[0m\u001b[0m\n\u001b[1;32m--> 341\u001b[1;33m                 \u001b[1;32mreturn\u001b[0m \u001b[0mprinter\u001b[0m\u001b[1;33m(\u001b[0m\u001b[0mobj\u001b[0m\u001b[1;33m)\u001b[0m\u001b[1;33m\u001b[0m\u001b[1;33m\u001b[0m\u001b[0m\n\u001b[0m\u001b[0;32m    342\u001b[0m             \u001b[1;31m# Finally look for special method names\u001b[0m\u001b[1;33m\u001b[0m\u001b[1;33m\u001b[0m\u001b[0m\n\u001b[0;32m    343\u001b[0m             \u001b[0mmethod\u001b[0m \u001b[1;33m=\u001b[0m \u001b[0mget_real_method\u001b[0m\u001b[1;33m(\u001b[0m\u001b[0mobj\u001b[0m\u001b[1;33m,\u001b[0m \u001b[0mself\u001b[0m\u001b[1;33m.\u001b[0m\u001b[0mprint_method\u001b[0m\u001b[1;33m)\u001b[0m\u001b[1;33m\u001b[0m\u001b[1;33m\u001b[0m\u001b[0m\n",
      "\u001b[1;32m~\\anaconda3\\lib\\site-packages\\IPython\\core\\pylabtools.py\u001b[0m in \u001b[0;36mprint_figure\u001b[1;34m(fig, fmt, bbox_inches, base64, **kwargs)\u001b[0m\n\u001b[0;32m    149\u001b[0m         \u001b[0mFigureCanvasBase\u001b[0m\u001b[1;33m(\u001b[0m\u001b[0mfig\u001b[0m\u001b[1;33m)\u001b[0m\u001b[1;33m\u001b[0m\u001b[1;33m\u001b[0m\u001b[0m\n\u001b[0;32m    150\u001b[0m \u001b[1;33m\u001b[0m\u001b[0m\n\u001b[1;32m--> 151\u001b[1;33m     \u001b[0mfig\u001b[0m\u001b[1;33m.\u001b[0m\u001b[0mcanvas\u001b[0m\u001b[1;33m.\u001b[0m\u001b[0mprint_figure\u001b[0m\u001b[1;33m(\u001b[0m\u001b[0mbytes_io\u001b[0m\u001b[1;33m,\u001b[0m \u001b[1;33m**\u001b[0m\u001b[0mkw\u001b[0m\u001b[1;33m)\u001b[0m\u001b[1;33m\u001b[0m\u001b[1;33m\u001b[0m\u001b[0m\n\u001b[0m\u001b[0;32m    152\u001b[0m     \u001b[0mdata\u001b[0m \u001b[1;33m=\u001b[0m \u001b[0mbytes_io\u001b[0m\u001b[1;33m.\u001b[0m\u001b[0mgetvalue\u001b[0m\u001b[1;33m(\u001b[0m\u001b[1;33m)\u001b[0m\u001b[1;33m\u001b[0m\u001b[1;33m\u001b[0m\u001b[0m\n\u001b[0;32m    153\u001b[0m     \u001b[1;32mif\u001b[0m \u001b[0mfmt\u001b[0m \u001b[1;33m==\u001b[0m \u001b[1;34m'svg'\u001b[0m\u001b[1;33m:\u001b[0m\u001b[1;33m\u001b[0m\u001b[1;33m\u001b[0m\u001b[0m\n",
      "\u001b[1;32m~\\anaconda3\\lib\\site-packages\\matplotlib\\backend_bases.py\u001b[0m in \u001b[0;36mprint_figure\u001b[1;34m(self, filename, dpi, facecolor, edgecolor, orientation, format, bbox_inches, pad_inches, bbox_extra_artists, backend, **kwargs)\u001b[0m\n\u001b[0;32m   2253\u001b[0m                 \u001b[1;31m# force the figure dpi to 72), so we need to set it again here.\u001b[0m\u001b[1;33m\u001b[0m\u001b[1;33m\u001b[0m\u001b[0m\n\u001b[0;32m   2254\u001b[0m                 \u001b[1;32mwith\u001b[0m \u001b[0mcbook\u001b[0m\u001b[1;33m.\u001b[0m\u001b[0m_setattr_cm\u001b[0m\u001b[1;33m(\u001b[0m\u001b[0mself\u001b[0m\u001b[1;33m.\u001b[0m\u001b[0mfigure\u001b[0m\u001b[1;33m,\u001b[0m \u001b[0mdpi\u001b[0m\u001b[1;33m=\u001b[0m\u001b[0mdpi\u001b[0m\u001b[1;33m)\u001b[0m\u001b[1;33m:\u001b[0m\u001b[1;33m\u001b[0m\u001b[1;33m\u001b[0m\u001b[0m\n\u001b[1;32m-> 2255\u001b[1;33m                     result = print_method(\n\u001b[0m\u001b[0;32m   2256\u001b[0m                         \u001b[0mfilename\u001b[0m\u001b[1;33m,\u001b[0m\u001b[1;33m\u001b[0m\u001b[1;33m\u001b[0m\u001b[0m\n\u001b[0;32m   2257\u001b[0m                         \u001b[0mfacecolor\u001b[0m\u001b[1;33m=\u001b[0m\u001b[0mfacecolor\u001b[0m\u001b[1;33m,\u001b[0m\u001b[1;33m\u001b[0m\u001b[1;33m\u001b[0m\u001b[0m\n",
      "\u001b[1;32m~\\anaconda3\\lib\\site-packages\\matplotlib\\backend_bases.py\u001b[0m in \u001b[0;36mwrapper\u001b[1;34m(*args, **kwargs)\u001b[0m\n\u001b[0;32m   1667\u001b[0m             \u001b[0mkwargs\u001b[0m\u001b[1;33m.\u001b[0m\u001b[0mpop\u001b[0m\u001b[1;33m(\u001b[0m\u001b[0marg\u001b[0m\u001b[1;33m)\u001b[0m\u001b[1;33m\u001b[0m\u001b[1;33m\u001b[0m\u001b[0m\n\u001b[0;32m   1668\u001b[0m \u001b[1;33m\u001b[0m\u001b[0m\n\u001b[1;32m-> 1669\u001b[1;33m         \u001b[1;32mreturn\u001b[0m \u001b[0mfunc\u001b[0m\u001b[1;33m(\u001b[0m\u001b[1;33m*\u001b[0m\u001b[0margs\u001b[0m\u001b[1;33m,\u001b[0m \u001b[1;33m**\u001b[0m\u001b[0mkwargs\u001b[0m\u001b[1;33m)\u001b[0m\u001b[1;33m\u001b[0m\u001b[1;33m\u001b[0m\u001b[0m\n\u001b[0m\u001b[0;32m   1670\u001b[0m \u001b[1;33m\u001b[0m\u001b[0m\n\u001b[0;32m   1671\u001b[0m     \u001b[1;32mreturn\u001b[0m \u001b[0mwrapper\u001b[0m\u001b[1;33m\u001b[0m\u001b[1;33m\u001b[0m\u001b[0m\n",
      "\u001b[1;32m~\\anaconda3\\lib\\site-packages\\matplotlib\\backends\\backend_agg.py\u001b[0m in \u001b[0;36mprint_png\u001b[1;34m(self, filename_or_obj, metadata, pil_kwargs, *args)\u001b[0m\n\u001b[0;32m    506\u001b[0m             \u001b[1;33m*\u001b[0m\u001b[0mmetadata\u001b[0m\u001b[1;33m*\u001b[0m\u001b[1;33m,\u001b[0m \u001b[0mincluding\u001b[0m \u001b[0mthe\u001b[0m \u001b[0mdefault\u001b[0m \u001b[1;34m'Software'\u001b[0m \u001b[0mkey\u001b[0m\u001b[1;33m.\u001b[0m\u001b[1;33m\u001b[0m\u001b[1;33m\u001b[0m\u001b[0m\n\u001b[0;32m    507\u001b[0m         \"\"\"\n\u001b[1;32m--> 508\u001b[1;33m         \u001b[0mFigureCanvasAgg\u001b[0m\u001b[1;33m.\u001b[0m\u001b[0mdraw\u001b[0m\u001b[1;33m(\u001b[0m\u001b[0mself\u001b[0m\u001b[1;33m)\u001b[0m\u001b[1;33m\u001b[0m\u001b[1;33m\u001b[0m\u001b[0m\n\u001b[0m\u001b[0;32m    509\u001b[0m         mpl.image.imsave(\n\u001b[0;32m    510\u001b[0m             \u001b[0mfilename_or_obj\u001b[0m\u001b[1;33m,\u001b[0m \u001b[0mself\u001b[0m\u001b[1;33m.\u001b[0m\u001b[0mbuffer_rgba\u001b[0m\u001b[1;33m(\u001b[0m\u001b[1;33m)\u001b[0m\u001b[1;33m,\u001b[0m \u001b[0mformat\u001b[0m\u001b[1;33m=\u001b[0m\u001b[1;34m\"png\"\u001b[0m\u001b[1;33m,\u001b[0m \u001b[0morigin\u001b[0m\u001b[1;33m=\u001b[0m\u001b[1;34m\"upper\"\u001b[0m\u001b[1;33m,\u001b[0m\u001b[1;33m\u001b[0m\u001b[1;33m\u001b[0m\u001b[0m\n",
      "\u001b[1;32m~\\anaconda3\\lib\\site-packages\\matplotlib\\backends\\backend_agg.py\u001b[0m in \u001b[0;36mdraw\u001b[1;34m(self)\u001b[0m\n\u001b[0;32m    399\u001b[0m     \u001b[1;32mdef\u001b[0m \u001b[0mdraw\u001b[0m\u001b[1;33m(\u001b[0m\u001b[0mself\u001b[0m\u001b[1;33m)\u001b[0m\u001b[1;33m:\u001b[0m\u001b[1;33m\u001b[0m\u001b[1;33m\u001b[0m\u001b[0m\n\u001b[0;32m    400\u001b[0m         \u001b[1;31m# docstring inherited\u001b[0m\u001b[1;33m\u001b[0m\u001b[1;33m\u001b[0m\u001b[0m\n\u001b[1;32m--> 401\u001b[1;33m         \u001b[0mself\u001b[0m\u001b[1;33m.\u001b[0m\u001b[0mrenderer\u001b[0m \u001b[1;33m=\u001b[0m \u001b[0mself\u001b[0m\u001b[1;33m.\u001b[0m\u001b[0mget_renderer\u001b[0m\u001b[1;33m(\u001b[0m\u001b[0mcleared\u001b[0m\u001b[1;33m=\u001b[0m\u001b[1;32mTrue\u001b[0m\u001b[1;33m)\u001b[0m\u001b[1;33m\u001b[0m\u001b[1;33m\u001b[0m\u001b[0m\n\u001b[0m\u001b[0;32m    402\u001b[0m         \u001b[1;31m# Acquire a lock on the shared font cache.\u001b[0m\u001b[1;33m\u001b[0m\u001b[1;33m\u001b[0m\u001b[0m\n\u001b[0;32m    403\u001b[0m         \u001b[1;32mwith\u001b[0m \u001b[0mRendererAgg\u001b[0m\u001b[1;33m.\u001b[0m\u001b[0mlock\u001b[0m\u001b[1;33m,\u001b[0m\u001b[0;31m \u001b[0m\u001b[0;31m\\\u001b[0m\u001b[1;33m\u001b[0m\u001b[1;33m\u001b[0m\u001b[0m\n",
      "\u001b[1;32m~\\anaconda3\\lib\\site-packages\\matplotlib\\backends\\backend_agg.py\u001b[0m in \u001b[0;36mget_renderer\u001b[1;34m(self, cleared)\u001b[0m\n\u001b[0;32m    415\u001b[0m                           and getattr(self, \"_lastKey\", None) == key)\n\u001b[0;32m    416\u001b[0m         \u001b[1;32mif\u001b[0m \u001b[1;32mnot\u001b[0m \u001b[0mreuse_renderer\u001b[0m\u001b[1;33m:\u001b[0m\u001b[1;33m\u001b[0m\u001b[1;33m\u001b[0m\u001b[0m\n\u001b[1;32m--> 417\u001b[1;33m             \u001b[0mself\u001b[0m\u001b[1;33m.\u001b[0m\u001b[0mrenderer\u001b[0m \u001b[1;33m=\u001b[0m \u001b[0mRendererAgg\u001b[0m\u001b[1;33m(\u001b[0m\u001b[0mw\u001b[0m\u001b[1;33m,\u001b[0m \u001b[0mh\u001b[0m\u001b[1;33m,\u001b[0m \u001b[0mself\u001b[0m\u001b[1;33m.\u001b[0m\u001b[0mfigure\u001b[0m\u001b[1;33m.\u001b[0m\u001b[0mdpi\u001b[0m\u001b[1;33m)\u001b[0m\u001b[1;33m\u001b[0m\u001b[1;33m\u001b[0m\u001b[0m\n\u001b[0m\u001b[0;32m    418\u001b[0m             \u001b[0mself\u001b[0m\u001b[1;33m.\u001b[0m\u001b[0m_lastKey\u001b[0m \u001b[1;33m=\u001b[0m \u001b[0mkey\u001b[0m\u001b[1;33m\u001b[0m\u001b[1;33m\u001b[0m\u001b[0m\n\u001b[0;32m    419\u001b[0m         \u001b[1;32melif\u001b[0m \u001b[0mcleared\u001b[0m\u001b[1;33m:\u001b[0m\u001b[1;33m\u001b[0m\u001b[1;33m\u001b[0m\u001b[0m\n",
      "\u001b[1;32m~\\anaconda3\\lib\\site-packages\\matplotlib\\backends\\backend_agg.py\u001b[0m in \u001b[0;36m__init__\u001b[1;34m(self, width, height, dpi)\u001b[0m\n\u001b[0;32m     89\u001b[0m         \u001b[0mself\u001b[0m\u001b[1;33m.\u001b[0m\u001b[0mwidth\u001b[0m \u001b[1;33m=\u001b[0m \u001b[0mwidth\u001b[0m\u001b[1;33m\u001b[0m\u001b[1;33m\u001b[0m\u001b[0m\n\u001b[0;32m     90\u001b[0m         \u001b[0mself\u001b[0m\u001b[1;33m.\u001b[0m\u001b[0mheight\u001b[0m \u001b[1;33m=\u001b[0m \u001b[0mheight\u001b[0m\u001b[1;33m\u001b[0m\u001b[1;33m\u001b[0m\u001b[0m\n\u001b[1;32m---> 91\u001b[1;33m         \u001b[0mself\u001b[0m\u001b[1;33m.\u001b[0m\u001b[0m_renderer\u001b[0m \u001b[1;33m=\u001b[0m \u001b[0m_RendererAgg\u001b[0m\u001b[1;33m(\u001b[0m\u001b[0mint\u001b[0m\u001b[1;33m(\u001b[0m\u001b[0mwidth\u001b[0m\u001b[1;33m)\u001b[0m\u001b[1;33m,\u001b[0m \u001b[0mint\u001b[0m\u001b[1;33m(\u001b[0m\u001b[0mheight\u001b[0m\u001b[1;33m)\u001b[0m\u001b[1;33m,\u001b[0m \u001b[0mdpi\u001b[0m\u001b[1;33m)\u001b[0m\u001b[1;33m\u001b[0m\u001b[1;33m\u001b[0m\u001b[0m\n\u001b[0m\u001b[0;32m     92\u001b[0m         \u001b[0mself\u001b[0m\u001b[1;33m.\u001b[0m\u001b[0m_filter_renderers\u001b[0m \u001b[1;33m=\u001b[0m \u001b[1;33m[\u001b[0m\u001b[1;33m]\u001b[0m\u001b[1;33m\u001b[0m\u001b[1;33m\u001b[0m\u001b[0m\n\u001b[0;32m     93\u001b[0m \u001b[1;33m\u001b[0m\u001b[0m\n",
      "\u001b[1;31mValueError\u001b[0m: Image size of 157663176x118778283 pixels is too large. It must be less than 2^16 in each direction."
     ]
    },
    {
     "data": {
      "text/plain": [
       "<Figure size 432x288 with 1 Axes>"
      ]
     },
     "metadata": {},
     "output_type": "display_data"
    }
   ],
   "source": [
    "#plt.figure(figsize = (6,3), dpi = 175)\n",
    "plt.pie(donations_df.amount, donations_df.cum_sum)\n",
    "plt.title('Small donations had a big contribution.')\n",
    "plt.xlabel('($) Size of each donation')\n",
    "plt.ylabel('(million $) Cumulative donation sum')\n",
    "plt.savefig('donation-sizes-and-contributions/cumulative_donations_3.png', dpi = 600)\n",
    "plt.show()"
   ]
  },
  {
   "cell_type": "code",
   "execution_count": null,
   "id": "0a9b610a",
   "metadata": {},
   "outputs": [],
   "source": []
  }
 ],
 "metadata": {
  "kernelspec": {
   "display_name": "Python 3 (ipykernel)",
   "language": "python",
   "name": "python3"
  },
  "language_info": {
   "codemirror_mode": {
    "name": "ipython",
    "version": 3
   },
   "file_extension": ".py",
   "mimetype": "text/x-python",
   "name": "python",
   "nbconvert_exporter": "python",
   "pygments_lexer": "ipython3",
   "version": "3.9.7"
  }
 },
 "nbformat": 4,
 "nbformat_minor": 5
}
