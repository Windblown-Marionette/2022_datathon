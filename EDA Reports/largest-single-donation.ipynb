{
 "cells": [
  {
   "cell_type": "markdown",
   "id": "7db3c42e",
   "metadata": {},
   "source": [
    "By Michael Holt, as part of team 3 for the DataPhilly 2022 Datathon to help ElderNet."
   ]
  },
  {
   "cell_type": "code",
   "execution_count": 1,
   "id": "1686081a",
   "metadata": {},
   "outputs": [],
   "source": [
    "import numpy as np\n",
    "import pandas as pd"
   ]
  },
  {
   "cell_type": "markdown",
   "id": "8b0c188e",
   "metadata": {},
   "source": [
    "# Importing Data"
   ]
  },
  {
   "cell_type": "code",
   "execution_count": 2,
   "id": "3690790b",
   "metadata": {},
   "outputs": [],
   "source": [
    "donations_df = pd.read_csv('data/donations_anonymized.csv')"
   ]
  },
  {
   "cell_type": "markdown",
   "id": "79b49eb3",
   "metadata": {},
   "source": [
    "# Largest Donation Amount"
   ]
  },
  {
   "cell_type": "code",
   "execution_count": 3,
   "id": "657c2fa5",
   "metadata": {},
   "outputs": [
    {
     "data": {
      "text/html": [
       "<div>\n",
       "<style scoped>\n",
       "    .dataframe tbody tr th:only-of-type {\n",
       "        vertical-align: middle;\n",
       "    }\n",
       "\n",
       "    .dataframe tbody tr th {\n",
       "        vertical-align: top;\n",
       "    }\n",
       "\n",
       "    .dataframe thead th {\n",
       "        text-align: right;\n",
       "    }\n",
       "</style>\n",
       "<table border=\"1\" class=\"dataframe\">\n",
       "  <thead>\n",
       "    <tr style=\"text-align: right;\">\n",
       "      <th></th>\n",
       "      <th>anon_donor_id</th>\n",
       "      <th>zip</th>\n",
       "      <th>status</th>\n",
       "      <th>do_not_mail</th>\n",
       "      <th>do_not_call</th>\n",
       "      <th>organisation</th>\n",
       "      <th>date</th>\n",
       "      <th>amount</th>\n",
       "      <th>form</th>\n",
       "      <th>campaign</th>\n",
       "      <th>target</th>\n",
       "    </tr>\n",
       "  </thead>\n",
       "  <tbody>\n",
       "    <tr>\n",
       "      <th>0</th>\n",
       "      <td>92</td>\n",
       "      <td>19003.0</td>\n",
       "      <td>Active</td>\n",
       "      <td>False</td>\n",
       "      <td>False</td>\n",
       "      <td>N</td>\n",
       "      <td>01/01/2019</td>\n",
       "      <td>40.0</td>\n",
       "      <td>Check</td>\n",
       "      <td>Clients</td>\n",
       "      <td>Gift</td>\n",
       "    </tr>\n",
       "    <tr>\n",
       "      <th>1</th>\n",
       "      <td>321</td>\n",
       "      <td>19096.0</td>\n",
       "      <td>Active</td>\n",
       "      <td>False</td>\n",
       "      <td>False</td>\n",
       "      <td>N</td>\n",
       "      <td>01/02/2019</td>\n",
       "      <td>25.0</td>\n",
       "      <td>Check</td>\n",
       "      <td>Fall Towns</td>\n",
       "      <td>Gift</td>\n",
       "    </tr>\n",
       "    <tr>\n",
       "      <th>2</th>\n",
       "      <td>559</td>\n",
       "      <td>19146.0</td>\n",
       "      <td>Active</td>\n",
       "      <td>False</td>\n",
       "      <td>False</td>\n",
       "      <td>N</td>\n",
       "      <td>01/02/2019</td>\n",
       "      <td>250.0</td>\n",
       "      <td>Check</td>\n",
       "      <td>Fall Towns</td>\n",
       "      <td>Gift</td>\n",
       "    </tr>\n",
       "    <tr>\n",
       "      <th>3</th>\n",
       "      <td>926</td>\n",
       "      <td>19041.0</td>\n",
       "      <td>Active</td>\n",
       "      <td>False</td>\n",
       "      <td>False</td>\n",
       "      <td>N</td>\n",
       "      <td>01/03/2019</td>\n",
       "      <td>50.0</td>\n",
       "      <td>Check</td>\n",
       "      <td>Fall Towns</td>\n",
       "      <td>Gift</td>\n",
       "    </tr>\n",
       "    <tr>\n",
       "      <th>4</th>\n",
       "      <td>860</td>\n",
       "      <td>10038.0</td>\n",
       "      <td>Active</td>\n",
       "      <td>False</td>\n",
       "      <td>False</td>\n",
       "      <td>N</td>\n",
       "      <td>01/04/2019</td>\n",
       "      <td>165.0</td>\n",
       "      <td>Check</td>\n",
       "      <td>Misc</td>\n",
       "      <td>Gift</td>\n",
       "    </tr>\n",
       "    <tr>\n",
       "      <th>5</th>\n",
       "      <td>956</td>\n",
       "      <td>19003.0</td>\n",
       "      <td>Active</td>\n",
       "      <td>False</td>\n",
       "      <td>False</td>\n",
       "      <td>N</td>\n",
       "      <td>01/07/2019</td>\n",
       "      <td>32.0</td>\n",
       "      <td>Check</td>\n",
       "      <td>Fall Towns</td>\n",
       "      <td>Gift</td>\n",
       "    </tr>\n",
       "    <tr>\n",
       "      <th>6</th>\n",
       "      <td>835</td>\n",
       "      <td>19072.0</td>\n",
       "      <td>Active</td>\n",
       "      <td>False</td>\n",
       "      <td>False</td>\n",
       "      <td>N</td>\n",
       "      <td>01/07/2019</td>\n",
       "      <td>100.0</td>\n",
       "      <td>Check</td>\n",
       "      <td>Board</td>\n",
       "      <td>Gift</td>\n",
       "    </tr>\n",
       "    <tr>\n",
       "      <th>7</th>\n",
       "      <td>119</td>\n",
       "      <td>19041.0</td>\n",
       "      <td>Active</td>\n",
       "      <td>False</td>\n",
       "      <td>False</td>\n",
       "      <td>N</td>\n",
       "      <td>01/08/2019</td>\n",
       "      <td>100.0</td>\n",
       "      <td>Check</td>\n",
       "      <td>Board</td>\n",
       "      <td>Gift</td>\n",
       "    </tr>\n",
       "    <tr>\n",
       "      <th>8</th>\n",
       "      <td>485</td>\n",
       "      <td>19041.0</td>\n",
       "      <td>Active</td>\n",
       "      <td>False</td>\n",
       "      <td>False</td>\n",
       "      <td>N</td>\n",
       "      <td>01/09/2019</td>\n",
       "      <td>50.0</td>\n",
       "      <td>Check</td>\n",
       "      <td>Fall Towns</td>\n",
       "      <td>Gift</td>\n",
       "    </tr>\n",
       "    <tr>\n",
       "      <th>9</th>\n",
       "      <td>192</td>\n",
       "      <td>19403.0</td>\n",
       "      <td>Active</td>\n",
       "      <td>False</td>\n",
       "      <td>False</td>\n",
       "      <td>N</td>\n",
       "      <td>01/09/2019</td>\n",
       "      <td>1000.0</td>\n",
       "      <td>Check</td>\n",
       "      <td>Corporatio</td>\n",
       "      <td>Gift</td>\n",
       "    </tr>\n",
       "  </tbody>\n",
       "</table>\n",
       "</div>"
      ],
      "text/plain": [
       "   anon_donor_id      zip  status  do_not_mail  do_not_call organisation  \\\n",
       "0             92  19003.0  Active        False        False            N   \n",
       "1            321  19096.0  Active        False        False            N   \n",
       "2            559  19146.0  Active        False        False            N   \n",
       "3            926  19041.0  Active        False        False            N   \n",
       "4            860  10038.0  Active        False        False            N   \n",
       "5            956  19003.0  Active        False        False            N   \n",
       "6            835  19072.0  Active        False        False            N   \n",
       "7            119  19041.0  Active        False        False            N   \n",
       "8            485  19041.0  Active        False        False            N   \n",
       "9            192  19403.0  Active        False        False            N   \n",
       "\n",
       "         date  amount   form    campaign target  \n",
       "0  01/01/2019    40.0  Check     Clients   Gift  \n",
       "1  01/02/2019    25.0  Check  Fall Towns   Gift  \n",
       "2  01/02/2019   250.0  Check  Fall Towns   Gift  \n",
       "3  01/03/2019    50.0  Check  Fall Towns   Gift  \n",
       "4  01/04/2019   165.0  Check        Misc   Gift  \n",
       "5  01/07/2019    32.0  Check  Fall Towns   Gift  \n",
       "6  01/07/2019   100.0  Check       Board   Gift  \n",
       "7  01/08/2019   100.0  Check       Board   Gift  \n",
       "8  01/09/2019    50.0  Check  Fall Towns   Gift  \n",
       "9  01/09/2019  1000.0  Check  Corporatio   Gift  "
      ]
     },
     "execution_count": 3,
     "metadata": {},
     "output_type": "execute_result"
    }
   ],
   "source": [
    "donations_df.head(10)"
   ]
  },
  {
   "cell_type": "markdown",
   "id": "70b9eff7",
   "metadata": {},
   "source": [
    "The largest single donation recorded here can be found through max()."
   ]
  },
  {
   "cell_type": "code",
   "execution_count": 4,
   "id": "1452d249",
   "metadata": {},
   "outputs": [
    {
     "data": {
      "text/plain": [
       "186092.0"
      ]
     },
     "execution_count": 4,
     "metadata": {},
     "output_type": "execute_result"
    }
   ],
   "source": [
    "max(donations_df.amount)"
   ]
  },
  {
   "cell_type": "markdown",
   "id": "3e77048b",
   "metadata": {},
   "source": [
    "A filter for all rows which have this value. This will help add some context."
   ]
  },
  {
   "cell_type": "code",
   "execution_count": 5,
   "id": "e47e27f9",
   "metadata": {},
   "outputs": [
    {
     "data": {
      "text/plain": [
       "0       False\n",
       "1       False\n",
       "2       False\n",
       "3       False\n",
       "4       False\n",
       "        ...  \n",
       "2185    False\n",
       "2186    False\n",
       "2187    False\n",
       "2188    False\n",
       "2189    False\n",
       "Name: amount, Length: 2190, dtype: bool"
      ]
     },
     "execution_count": 5,
     "metadata": {},
     "output_type": "execute_result"
    }
   ],
   "source": [
    "donations_df.loc[: , \"amount\"] == max(donations_df.amount)"
   ]
  },
  {
   "cell_type": "code",
   "execution_count": 6,
   "id": "bf628034",
   "metadata": {},
   "outputs": [],
   "source": [
    "mask = donations_df.loc[: , \"amount\"] == max(donations_df.amount)"
   ]
  },
  {
   "cell_type": "code",
   "execution_count": 7,
   "id": "3eb62f73",
   "metadata": {},
   "outputs": [
    {
     "data": {
      "text/html": [
       "<div>\n",
       "<style scoped>\n",
       "    .dataframe tbody tr th:only-of-type {\n",
       "        vertical-align: middle;\n",
       "    }\n",
       "\n",
       "    .dataframe tbody tr th {\n",
       "        vertical-align: top;\n",
       "    }\n",
       "\n",
       "    .dataframe thead th {\n",
       "        text-align: right;\n",
       "    }\n",
       "</style>\n",
       "<table border=\"1\" class=\"dataframe\">\n",
       "  <thead>\n",
       "    <tr style=\"text-align: right;\">\n",
       "      <th></th>\n",
       "      <th>anon_donor_id</th>\n",
       "      <th>zip</th>\n",
       "      <th>status</th>\n",
       "      <th>do_not_mail</th>\n",
       "      <th>do_not_call</th>\n",
       "      <th>organisation</th>\n",
       "      <th>date</th>\n",
       "      <th>amount</th>\n",
       "      <th>form</th>\n",
       "      <th>campaign</th>\n",
       "      <th>target</th>\n",
       "    </tr>\n",
       "  </thead>\n",
       "  <tbody>\n",
       "    <tr>\n",
       "      <th>1809</th>\n",
       "      <td>589</td>\n",
       "      <td>NaN</td>\n",
       "      <td>Active</td>\n",
       "      <td>False</td>\n",
       "      <td>False</td>\n",
       "      <td>N</td>\n",
       "      <td>01/14/2021</td>\n",
       "      <td>186092.0</td>\n",
       "      <td>Check</td>\n",
       "      <td>Misc</td>\n",
       "      <td>Gift</td>\n",
       "    </tr>\n",
       "  </tbody>\n",
       "</table>\n",
       "</div>"
      ],
      "text/plain": [
       "      anon_donor_id  zip  status  do_not_mail  do_not_call organisation  \\\n",
       "1809            589  NaN  Active        False        False            N   \n",
       "\n",
       "            date    amount   form campaign target  \n",
       "1809  01/14/2021  186092.0  Check     Misc   Gift  "
      ]
     },
     "execution_count": 7,
     "metadata": {},
     "output_type": "execute_result"
    }
   ],
   "source": [
    "donations_df[mask]"
   ]
  },
  {
   "cell_type": "markdown",
   "id": "7a04b441",
   "metadata": {},
   "source": [
    "This above row has data on the largest recorded donation. There was no tie for the biggest donation. The biggest donation occurred on 1/14/2021, was not from an organization, and was a check for a whopping $186,092."
   ]
  }
 ],
 "metadata": {
  "kernelspec": {
   "display_name": "Python 3 (ipykernel)",
   "language": "python",
   "name": "python3"
  },
  "language_info": {
   "codemirror_mode": {
    "name": "ipython",
    "version": 3
   },
   "file_extension": ".py",
   "mimetype": "text/x-python",
   "name": "python",
   "nbconvert_exporter": "python",
   "pygments_lexer": "ipython3",
   "version": "3.9.7"
  }
 },
 "nbformat": 4,
 "nbformat_minor": 5
}
